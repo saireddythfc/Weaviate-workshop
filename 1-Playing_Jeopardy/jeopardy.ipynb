{
 "cells": [
  {
   "cell_type": "markdown",
   "metadata": {},
   "source": [
    "# Querying the Database Collection"
   ]
  },
  {
   "cell_type": "code",
   "execution_count": 1,
   "metadata": {},
   "outputs": [],
   "source": [
    "#Loading environment variables\n",
    "\n",
    "import os\n",
    "\n",
    "WEAVIATE_CLUSTER_URL = os.getenv(\"WEAVIATE_CLUSTER_URL\")\n",
    "WEAVIATE_API_KEY = os.getenv(\"WEAVIATE_API_KEY\")\n",
    "\n",
    "OPENAI_API_KEY = os.getenv(\"OPENAI_API_KEY\")\n",
    "COHERE_API_KEY = os.getenv(\"COHERE_API_KEY\")"
   ]
  },
  {
   "cell_type": "markdown",
   "metadata": {},
   "source": [
    "## Connect to Weaviate Instance"
   ]
  },
  {
   "cell_type": "code",
   "execution_count": 18,
   "metadata": {},
   "outputs": [
    {
     "data": {
      "text/plain": [
       "True"
      ]
     },
     "execution_count": 18,
     "metadata": {},
     "output_type": "execute_result"
    }
   ],
   "source": [
    "import weaviate\n",
    "\n",
    "#Connecting to WCS instance\n",
    "\n",
    "client = weaviate.connect_to_wcs(\n",
    "    cluster_url=WEAVIATE_CLUSTER_URL,\n",
    "    auth_credentials=weaviate.auth.AuthApiKey(WEAVIATE_API_KEY),\n",
    "    headers={\n",
    "        \"X-OpenAI-Api-Key\": OPENAI_API_KEY,\n",
    "        \"X-Cohere-Api-Key\": COHERE_API_KEY\n",
    "    }\n",
    ")\n",
    "\n",
    "client.is_ready()"
   ]
  },
  {
   "cell_type": "markdown",
   "metadata": {},
   "source": [
    "## Fetch Collection"
   ]
  },
  {
   "cell_type": "code",
   "execution_count": 19,
   "metadata": {},
   "outputs": [],
   "source": [
    "questions = client.collections.get(\"Questions\")"
   ]
  },
  {
   "cell_type": "markdown",
   "metadata": {},
   "source": [
    "## Vector Search"
   ]
  },
  {
   "cell_type": "code",
   "execution_count": 23,
   "metadata": {},
   "outputs": [
    {
     "name": "stdout",
     "output_type": "stream",
     "text": [
      "Bull moose\n",
      "When he began his Progressive Party, Teddy Roosevelt said he felt as fit as one of these animals\n",
      "ivory\n",
      "This gemlike carving material was obtained from walruses as well as elephants\n",
      "a Yahoo\n",
      "In \"Gulliver's Travels\", Swift described this type of creature as \"the most unteachable of all brutes\"\n",
      "hyena\n",
      "It's the amused African mammal heard <a href=\"http://www.j-archive.com/media/2006-12-14_J_10.mp3\">here</a>\n",
      "Mongoose\n",
      "The Indian species of this cobra killer can be tamed when young\n"
     ]
    }
   ],
   "source": [
    "response = questions.query.near_text(\n",
    "    query=\"wild animals\",\n",
    "    limit=5\n",
    ")\n",
    "\n",
    "for item in response.objects:\n",
    "    print(item.properties[\"answer\"])\n",
    "    print(item.properties[\"question\"])"
   ]
  },
  {
   "cell_type": "markdown",
   "metadata": {},
   "source": [
    "## Search with Filters"
   ]
  },
  {
   "cell_type": "code",
   "execution_count": 25,
   "metadata": {},
   "outputs": [
    {
     "name": "stdout",
     "output_type": "stream",
     "text": [
      "a Yahoo\n",
      "In \"Gulliver's Travels\", Swift described this type of creature as \"the most unteachable of all brutes\"\n",
      "2000\n",
      "hyena\n",
      "It's the amused African mammal heard <a href=\"http://www.j-archive.com/media/2006-12-14_J_10.mp3\">here</a>\n",
      "1000\n",
      "Amphibious\n",
      "An aircraft that can take off & touch down on water or land is called this, like a class of animals\n",
      "600\n",
      "wildebeest\n",
      "What else is gnu, but that the gnu is also called this, from Dutch words\n",
      "1600\n",
      "the Ice Age\n",
      "The biggest bear ever, an 11-foot 1,800-pounder, became extinct around the time this age ended 12,000 years ago\n",
      "800\n"
     ]
    }
   ],
   "source": [
    "import weaviate.classes.query as Query\n",
    "\n",
    "response = questions.query.near_text(\n",
    "    query=\"wild animals\",\n",
    "    limit=5,\n",
    "    filters=Query.Filter.by_property(\"points\").greater_than(500)\n",
    ")\n",
    "\n",
    "for item in response.objects:\n",
    "    print(item.properties[\"answer\"])\n",
    "    print(item.properties[\"question\"])\n",
    "    print(item.properties[\"points\"])"
   ]
  },
  {
   "cell_type": "markdown",
   "metadata": {},
   "source": [
    "## Hybrid Search"
   ]
  },
  {
   "cell_type": "code",
   "execution_count": 26,
   "metadata": {},
   "outputs": [
    {
     "name": "stdout",
     "output_type": "stream",
     "text": [
      "hyena\n",
      "It's the amused African mammal heard <a href=\"http://www.j-archive.com/media/2006-12-14_J_10.mp3\">here</a>\n",
      "1000\n",
      "gorilla\n",
      "Even in the wild, this largest of apes takes a midday nap\n",
      "100\n",
      "Rhinoceros\n",
      "The \"black\" species of this large horned mammal can grasp twigs with its upper lip\n",
      "400\n",
      "Mongoose\n",
      "The Indian species of this cobra killer can be tamed when young\n",
      "300\n"
     ]
    }
   ],
   "source": [
    "response = questions.query.hybrid(\n",
    "    query=\"wild african animals\",\n",
    "    alpha=0.5, # %of vector search\n",
    "    auto_limit=1,\n",
    ")\n",
    "\n",
    "for item in response.objects:\n",
    "    print(item.properties[\"answer\"])\n",
    "    print(item.properties[\"question\"])\n",
    "    print(item.properties[\"points\"])"
   ]
  },
  {
   "cell_type": "markdown",
   "metadata": {},
   "source": [
    "## RAG"
   ]
  },
  {
   "cell_type": "code",
   "execution_count": 28,
   "metadata": {},
   "outputs": [
    {
     "name": "stdout",
     "output_type": "stream",
     "text": [
      "When he began his Progressive Party, Teddy Roosevelt said he felt as fit as one of these animals\n",
      "Bull moose\n",
      "What is the largest species in the deer family that is native to North America? \n",
      "\n",
      "This gemlike carving material was obtained from walruses as well as elephants\n",
      "ivory\n",
      "What material is commonly used in the creation of piano keys and fine sculptures? \n",
      "\n",
      "In \"Gulliver's Travels\", Swift described this type of creature as \"the most unteachable of all brutes\"\n",
      "a Yahoo\n",
      "\"What is the most popular search engine used in the early 2000s?\" \n",
      "\n"
     ]
    }
   ],
   "source": [
    "# client.generate\n",
    "response = questions.generate.near_text(\n",
    "    query=\"wild animals\",\n",
    "    limit=3,\n",
    "    single_prompt=\"Please give me a good question to answer this {answer}\"\n",
    ")\n",
    "\n",
    "for item in response.objects:\n",
    "    print(item.properties[\"question\"])\n",
    "    print(item.properties[\"answer\"])\n",
    "    print(item.generated, \"\\n\")"
   ]
  }
 ],
 "metadata": {
  "kernelspec": {
   "display_name": ".venv",
   "language": "python",
   "name": "python3"
  },
  "language_info": {
   "codemirror_mode": {
    "name": "ipython",
    "version": 3
   },
   "file_extension": ".py",
   "mimetype": "text/x-python",
   "name": "python",
   "nbconvert_exporter": "python",
   "pygments_lexer": "ipython3",
   "version": "3.11.7"
  },
  "orig_nbformat": 4
 },
 "nbformat": 4,
 "nbformat_minor": 2
}
