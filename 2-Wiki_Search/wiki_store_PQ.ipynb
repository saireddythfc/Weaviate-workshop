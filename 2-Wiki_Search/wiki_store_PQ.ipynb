{
 "cells": [
  {
   "cell_type": "markdown",
   "metadata": {},
   "source": [
    "# Adding Product Quantization while storing"
   ]
  },
  {
   "cell_type": "code",
   "execution_count": 1,
   "metadata": {},
   "outputs": [],
   "source": [
    "#Loading environment variables\n",
    "\n",
    "import os\n",
    "\n",
    "WEAVIATE_API_KEY = os.getenv(\"WEAVIATE_API_KEY\")\n",
    "WEAVIATE_CLUSTER_URL = os.getenv(\"WEAVIATE_CLUSTER_URL\")\n",
    "\n",
    "OPENAI_API_KEY = os.getenv(\"OPENAI_API_KEY\")\n",
    "COHERE_API_KEY = os.getenv(\"COHERE_API_KEY\")"
   ]
  },
  {
   "cell_type": "markdown",
   "metadata": {},
   "source": [
    "## Connect to WCS Instance"
   ]
  },
  {
   "cell_type": "code",
   "execution_count": 2,
   "metadata": {},
   "outputs": [
    {
     "data": {
      "text/plain": [
       "True"
      ]
     },
     "execution_count": 2,
     "metadata": {},
     "output_type": "execute_result"
    }
   ],
   "source": [
    "import weaviate\n",
    "\n",
    "client = weaviate.connect_to_wcs(\n",
    "    cluster_url=WEAVIATE_CLUSTER_URL,\n",
    "    auth_credentials=weaviate.auth.AuthApiKey(WEAVIATE_API_KEY),\n",
    "    headers={\n",
    "        \"OpenAI-Api-Key\": OPENAI_API_KEY,\n",
    "        \"Cohere-Api-Key\": COHERE_API_KEY,\n",
    "    },\n",
    ")\n",
    "\n",
    "client.is_ready()"
   ]
  },
  {
   "cell_type": "markdown",
   "metadata": {},
   "source": [
    "## Vector Store with PQ"
   ]
  },
  {
   "cell_type": "code",
   "execution_count": 5,
   "metadata": {},
   "outputs": [
    {
     "data": {
      "text/plain": [
       "<weaviate.collections.collection.Collection at 0x10dc2cf10>"
      ]
     },
     "execution_count": 5,
     "metadata": {},
     "output_type": "execute_result"
    }
   ],
   "source": [
    "from weaviate.classes.config import Configure\n",
    "\n",
    "if client.collections.exists(\"WikipediaPQ\"):\n",
    "    client.collections.delete(\"WikipediaPQ\")\n",
    "\n",
    "client.collections.create(\n",
    "    name=\"WikipediaPQ\",\n",
    "    vectorizer_config=[\n",
    "        Configure.NamedVectors.text2vec_cohere(\n",
    "            name=\"text_vector\",\n",
    "            model=\"embed-multilingual-v2.0\",\n",
    "            source_properties=[\"text\"],\n",
    "\n",
    "            vector_index_config=Configure.VectorIndex.hnsw(\n",
    "                quantizer=Configure.VectorIndex.Quantizer.pq(\n",
    "                    segments=128, # 768/6\n",
    "                )\n",
    "            ),\n",
    "\n",
    "    )],\n",
    "\n",
    "    generative_config=Configure.Generative.openai(\"gpt-4\")\n",
    "\n",
    ")"
   ]
  },
  {
   "cell_type": "code",
   "execution_count": 6,
   "metadata": {},
   "outputs": [
    {
     "name": "stderr",
     "output_type": "stream",
     "text": [
      "/Users/hurrikane/Desktop/GitHub/Personal Projects/Weaviate-workshop/.venv/lib/python3.11/site-packages/tqdm/auto.py:21: TqdmWarning: IProgress not found. Please update jupyter and ipywidgets. See https://ipywidgets.readthedocs.io/en/stable/user_install.html\n",
      "  from .autonotebook import tqdm as notebook_tqdm\n"
     ]
    }
   ],
   "source": [
    "from datasets import load_dataset\n",
    "from tqdm import tqdm\n",
    "\n",
    "def import_wiki_data(lang, lang_id, max_rows, skip_rows=0):\n",
    "    print(f\"Importing {max_rows} data items for {lang}\")\n",
    "\n",
    "    dataset = load_dataset(f\"Cohere/wikipedia-22-12-{lang}-embeddings\", split=\"train\", streaming=True)\n",
    "    dataset = dataset.skip(skip_rows)\n",
    "\n",
    "    # counter = 0\n",
    "    counter = skip_rows\n",
    "\n",
    "    wikipedia = client.collections.get(\"Wikipedia\")\n",
    "\n",
    "    with wikipedia.batch.fixed_size(batch_size=1000, concurrent_requests=4) as batch:\n",
    "        for item in tqdm(dataset, initial=skip_rows, total=max_rows):\n",
    "            vector = item[\"emb\"]\n",
    "            data_to_insert = {   \n",
    "                \"text\": item[\"text\"],\n",
    "                \"wiki_id\": item[\"wiki_id\"],\n",
    "                \"title\": item[\"title\"],\n",
    "                \"url\": item[\"url\"],\n",
    "                \"views\": item[\"views\"],\n",
    "                \"lang\": lang,\n",
    "                \"lang_id\": lang_id,\n",
    "            }\n",
    "\n",
    "            batch.add_object(\n",
    "                properties=data_to_insert,\n",
    "                vector=vector\n",
    "            )\n",
    "            \n",
    "            # stop after the request number reaches = max_rows\n",
    "            counter += 1\n",
    "            if counter >= max_rows:\n",
    "                break\n",
    "    \n",
    "    # check for errors at the end\n",
    "    if (len(wikipedia.batch.failed_objects)>0):\n",
    "        print(\"Final error check\")\n",
    "        print(f\"Some errors {len(wikipedia.batch.failed_objects)}\")\n",
    "        print(wikipedia.batch.failed_objects[-1])\n",
    "    \n",
    "    print(f\"Imported {counter} items for {lang}\")\n",
    "    print(\"-----------------------------------\")"
   ]
  },
  {
   "cell_type": "code",
   "execution_count": 7,
   "metadata": {},
   "outputs": [
    {
     "name": "stdout",
     "output_type": "stream",
     "text": [
      "Importing 10000 data items for en\n"
     ]
    },
    {
     "name": "stderr",
     "output_type": "stream",
     "text": [
      "100%|█████████▉| 9999/10000 [01:12<00:00, 136.99it/s]\n"
     ]
    },
    {
     "name": "stdout",
     "output_type": "stream",
     "text": [
      "Imported 10000 items for en\n",
      "-----------------------------------\n",
      "Importing 10000 data items for de\n"
     ]
    },
    {
     "name": "stderr",
     "output_type": "stream",
     "text": [
      "100%|█████████▉| 9999/10000 [01:13<00:00, 136.51it/s]\n"
     ]
    },
    {
     "name": "stdout",
     "output_type": "stream",
     "text": [
      "Imported 10000 items for de\n",
      "-----------------------------------\n",
      "Importing 10000 data items for fr\n"
     ]
    },
    {
     "name": "stderr",
     "output_type": "stream",
     "text": [
      "100%|█████████▉| 9999/10000 [01:13<00:00, 136.45it/s]\n"
     ]
    },
    {
     "name": "stdout",
     "output_type": "stream",
     "text": [
      "Imported 10000 items for fr\n",
      "-----------------------------------\n"
     ]
    }
   ],
   "source": [
    "import_per_country = 10_000\n",
    "\n",
    "import_wiki_data(\"en\", 0, import_per_country, 0)\n",
    "import_wiki_data(\"de\", 1, import_per_country, 0)\n",
    "import_wiki_data(\"fr\", 2, import_per_country, 0)\n",
    "# import_wiki_data(\"es\", 3, import_per_country, 0)\n",
    "# import_wiki_data(\"it\", 4, import_per_country, 0)"
   ]
  }
 ],
 "metadata": {
  "kernelspec": {
   "display_name": ".venv",
   "language": "python",
   "name": "python3"
  },
  "language_info": {
   "codemirror_mode": {
    "name": "ipython",
    "version": 3
   },
   "file_extension": ".py",
   "mimetype": "text/x-python",
   "name": "python",
   "nbconvert_exporter": "python",
   "pygments_lexer": "ipython3",
   "version": "3.11.7"
  }
 },
 "nbformat": 4,
 "nbformat_minor": 2
}
