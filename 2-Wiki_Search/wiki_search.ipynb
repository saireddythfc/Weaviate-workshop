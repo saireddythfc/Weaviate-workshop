{
 "cells": [
  {
   "cell_type": "code",
   "execution_count": 1,
   "metadata": {},
   "outputs": [],
   "source": [
    "#Loading environment variables\n",
    "\n",
    "import os\n",
    "\n",
    "WEAVIATE_CLUSTER_URL = os.getenv(\"WEAVIATE_CLUSTER_URL\")\n",
    "WEAVIATE_API_KEY = os.getenv(\"WEAVIATE_API_KEY\")\n",
    "\n",
    "OPENAI_API_KEY = os.getenv(\"OPENAI_API_KEY\")\n",
    "COHERE_API_KEY = os.getenv(\"COHERE_API_KEY\")"
   ]
  },
  {
   "cell_type": "markdown",
   "metadata": {},
   "source": [
    "## Connect to WCS Instance"
   ]
  },
  {
   "cell_type": "code",
   "execution_count": 8,
   "metadata": {},
   "outputs": [
    {
     "data": {
      "text/plain": [
       "True"
      ]
     },
     "execution_count": 8,
     "metadata": {},
     "output_type": "execute_result"
    }
   ],
   "source": [
    "import weaviate\n",
    "\n",
    "# Connect to a cloud instance of Weaviate (with WCS)\n",
    "client = weaviate.connect_to_wcs(\n",
    "    cluster_url=WEAVIATE_CLUSTER_URL,\n",
    "    auth_credentials=weaviate.auth.AuthApiKey(WEAVIATE_API_KEY),\n",
    "    headers={\n",
    "        \"X-OpenAI-Api-Key\": OPENAI_API_KEY,\n",
    "        \"X-Cohere-Api-Key\": COHERE_API_KEY\n",
    "    }\n",
    ")\n",
    "\n",
    "client.is_ready()"
   ]
  },
  {
   "cell_type": "markdown",
   "metadata": {},
   "source": [
    "## Preview data "
   ]
  },
  {
   "cell_type": "code",
   "execution_count": 9,
   "metadata": {},
   "outputs": [
    {
     "name": "stdout",
     "output_type": "stream",
     "text": [
      "3524766\n",
      "YouTube\n",
      "\"The Legion of Extraordinary Dancers\" and the YouTube Symphony Orchestra selected their membership based on individual video performances. Further, the cybercollaboration charity video \"We Are the World 25 for Haiti (YouTube edition)\" was formed by mixing performances of 57 globally distributed singers into a single musical work, with \"The Tokyo Times\" noting the \"We Pray for You\" YouTube cyber-collaboration video as an example of a trend to use crowdsourcing for charitable purposes. \n",
      "\n",
      "31750\n",
      "Ukraine\n",
      "The first dedicated musical academy was set up in Hlukhiv in 1738 and students were taught to sing and play violin and bandura from manuscripts. As a result, many of the earliest composers and performers within the Russian empire were ethnically Ukrainian, having been born or educated in Hlukhiv or having been closely associated with this music school. Ukrainian classical music differs considerably depending on whether the composer was of Ukrainian ethnicity living in Ukraine, a composer of non-Ukrainian ethnicity who was a citizen of Ukraine, or part of the Ukrainian diaspora. \n",
      "\n",
      "9288\n",
      "Elvis Presley\n",
      "Presley undertook three brief tours during the year, continuing to generate a crazed audience response. A Detroit newspaper suggested that \"the trouble with going to see Elvis Presley is that you're liable to get killed.\" Villanova students pelted him with eggs in Philadelphia, and in Vancouver the crowd rioted after the end of the show, destroying the stage. Frank Sinatra, who had inspired both the swooning and screaming of teenage girls in the 1940s, condemned the new musical phenomenon. In a magazine article, he decried rock and roll as \"brutal, ugly, degenerate, vicious. ... It fosters almost totally negative and destructive reactions in young people. It smells phoney and false. It is sung, played and written, for the most part, by cretinous goons. ... This rancid-smelling aphrodisiac I deplore.\" Asked for a response, Presley said, \"I admire the man. He has a right to say what he wants to say. He is a great success and a fine actor, but I think he shouldn't have said it. ... This is a trend, just the same as he faced when he started years ago.\" \n",
      "\n",
      "9288\n",
      "Elvis Presley\n",
      "Presley returned to the Sullivan show at its main studio in New York, hosted this time by its namesake, on October 28. After the performance, crowds in Nashville and St. Louis burned him in effigy. His first motion picture, \"Love Me Tender\", was released on November 21. Though he was not top-billed, the film's original title—\"The Reno Brothers\"—was changed to capitalize on his latest number-one record: \"Love Me Tender\" had hit the top of the charts earlier that month. To further take advantage of Presley's popularity, four musical numbers were added to what was originally a straight acting role. The film was panned by critics but did very well at the box office. Presley would receive top billing on every subsequent film he made. \n",
      "\n",
      "9288\n",
      "Elvis Presley\n",
      "The audience response at Presley's live shows became increasingly fevered. Moore recalled, \"He'd start out, 'You ain't nothin' but a Hound Dog,' and they'd just go to pieces. They'd always react the same way. There'd be a riot every time.\" At the two concerts he performed in September at the Mississippi–Alabama Fair and Dairy Show, 50 National Guardsmen were added to the police security to ensure that the crowd would not cause a ruckus. \"Elvis\", Presley's second RCA Victor album, was released in October and quickly rose to number one on the billboard. The album includes \"Old Shep\", which he sang at the talent show in 1945, and which now marked the first time he played piano on an RCA Victor session. According to Guralnick, one can hear \"in the halting chords and the somewhat stumbling rhythm both the unmistakable emotion and the equally unmistakable valuing of emotion over technique.\" Assessing the musical and cultural impact of Presley's recordings from \"That's All Right\" through \"Elvis\", rock critic Dave Marsh wrote that \"these records, more than any others, contain the seeds of what rock & roll was, has been and most likely what it may foreseeably become.\" \n",
      "\n"
     ]
    }
   ],
   "source": [
    "from weaviate.classes.query import Filter\n",
    "\n",
    "wiki = client.collections.get(\"Wikipedia\")\n",
    "\n",
    "response = wiki.query.fetch_objects(\n",
    "    filters=Filter.by_property(\"text\").like(\"musical\"),\n",
    "    limit=5\n",
    ")\n",
    "\n",
    "for item in response.objects:\n",
    "    print(item.properties[\"wiki_id\"])\n",
    "    print(item.properties[\"title\"])\n",
    "    print(item.properties[\"text\"], '\\n')"
   ]
  },
  {
   "cell_type": "markdown",
   "metadata": {},
   "source": [
    "## Vector Search"
   ]
  },
  {
   "cell_type": "code",
   "execution_count": 10,
   "metadata": {},
   "outputs": [
    {
     "name": "stdout",
     "output_type": "stream",
     "text": [
      "{'text': 'Certain content is copyright Oxford University Press USA. Some phrase translations come from Wikitravel.', 'views': 4305.65283203125, 'wiki_id': 3235536, 'url': 'https://en.wikipedia.org/wiki?curid=3235536', 'title': 'Google Translate', 'lang': 'en', 'lang_id': 0}\n",
      "{'text': 'Streaming media is the real-time delivery of digital media for the immediate consumption or enjoyment by end users. Many radio and television broadcasters provide Internet feeds of their live audio and video productions. They may also allow time-shift viewing or listening such as Preview, Classic Clips and Listen Again features. These providers have been joined by a range of pure Internet \"broadcasters\" who never had on-air licenses. This means that an Internet-connected device, such as a computer or something more specific, can be used to access on-line media in much the same way as was previously possible only with a television or radio receiver. The range of available types of content is much wider, from specialized technical webcasts to on-demand popular multimedia services. Podcasting is a variation on this theme, where—usually audio—material is downloaded and played back on a computer or shifted to a portable media player to be listened to on the move. These techniques using simple equipment allow anybody, with little censorship or licensing control, to broadcast audio-visual material worldwide.', 'views': 4292.6357421875, 'wiki_id': 14539, 'url': 'https://en.wikipedia.org/wiki?curid=14539', 'title': 'Internet', 'lang': 'en', 'lang_id': 0}\n",
      "{'text': 'A 2008 study conducted by researchers at Carnegie Mellon University and Palo Alto Research Center gave a distribution of topics as well as growth (from July 2006 to January 2008) in each field:', 'views': 4901.193359375, 'wiki_id': 5043734, 'url': 'https://en.wikipedia.org/wiki?curid=5043734', 'title': 'Wikipedia', 'lang': 'en', 'lang_id': 0}\n",
      "{'text': 'DiCaprio has been recognized by the Academy of Motion Picture Arts and Sciences for the following performances:', 'views': 4132.5322265625, 'wiki_id': 52711, 'url': 'https://en.wikipedia.org/wiki?curid=52711', 'title': 'Leonardo DiCaprio', 'lang': 'en', 'lang_id': 0}\n",
      "{'text': 'The Internet has enabled new forms of social interaction, activities, and social associations. This phenomenon has given rise to the scholarly study of the sociology of the Internet.', 'views': 4292.6357421875, 'wiki_id': 14539, 'url': 'https://en.wikipedia.org/wiki?curid=14539', 'title': 'Internet', 'lang': 'en', 'lang_id': 0}\n"
     ]
    }
   ],
   "source": [
    "from weaviate.classes.query import Filter\n",
    "\n",
    "wiki = client.collections.get(\"Wikipedia\")\n",
    "\n",
    "response = wiki.query.near_text(\n",
    "    query=\"musical instruments\",\n",
    "    limit=5,\n",
    "    filters=Filter.by_property(\"lang\").equal(\"en\")\n",
    ")\n",
    "\n",
    "for item in response.objects:\n",
    "    print(item.properties)"
   ]
  }
 ],
 "metadata": {
  "kernelspec": {
   "display_name": ".venv",
   "language": "python",
   "name": "python3"
  },
  "language_info": {
   "codemirror_mode": {
    "name": "ipython",
    "version": 3
   },
   "file_extension": ".py",
   "mimetype": "text/x-python",
   "name": "python",
   "nbconvert_exporter": "python",
   "pygments_lexer": "ipython3",
   "version": "3.11.7"
  },
  "orig_nbformat": 4
 },
 "nbformat": 4,
 "nbformat_minor": 2
}
