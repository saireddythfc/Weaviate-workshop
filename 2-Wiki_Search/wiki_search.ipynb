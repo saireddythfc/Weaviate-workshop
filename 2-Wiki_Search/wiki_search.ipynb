{
 "cells": [
  {
   "cell_type": "code",
   "execution_count": 1,
   "metadata": {},
   "outputs": [],
   "source": [
    "#Loading environment variables\n",
    "\n",
    "import os\n",
    "\n",
    "WEAVIATE_CLUSTER_URL = os.getenv(\"WEAVIATE_CLUSTER_URL\")\n",
    "WEAVIATE_API_KEY = os.getenv(\"WEAVIATE_API_KEY\")\n",
    "\n",
    "OPENAI_API_KEY = os.getenv(\"OPENAI_API_KEY\")\n",
    "COHERE_API_KEY = os.getenv(\"COHERE_API_KEY\")"
   ]
  },
  {
   "cell_type": "markdown",
   "metadata": {},
   "source": [
    "## Connect to WCS Instance"
   ]
  },
  {
   "cell_type": "code",
   "execution_count": 8,
   "metadata": {},
   "outputs": [
    {
     "data": {
      "text/plain": [
       "True"
      ]
     },
     "execution_count": 8,
     "metadata": {},
     "output_type": "execute_result"
    }
   ],
   "source": [
    "import weaviate\n",
    "\n",
    "# Connect to a cloud instance of Weaviate (with WCS)\n",
    "client = weaviate.connect_to_wcs(\n",
    "    cluster_url=WEAVIATE_CLUSTER_URL,\n",
    "    auth_credentials=weaviate.auth.AuthApiKey(WEAVIATE_API_KEY),\n",
    "    headers={\n",
    "        \"X-OpenAI-Api-Key\": OPENAI_API_KEY,\n",
    "        \"X-Cohere-Api-Key\": COHERE_API_KEY\n",
    "    }\n",
    ")\n",
    "\n",
    "client.is_ready()"
   ]
  },
  {
   "cell_type": "markdown",
   "metadata": {},
   "source": [
    "## Preview data "
   ]
  },
  {
   "cell_type": "code",
   "execution_count": 9,
   "metadata": {},
   "outputs": [
    {
     "name": "stdout",
     "output_type": "stream",
     "text": [
      "3524766\n",
      "YouTube\n",
      "\"The Legion of Extraordinary Dancers\" and the YouTube Symphony Orchestra selected their membership based on individual video performances. Further, the cybercollaboration charity video \"We Are the World 25 for Haiti (YouTube edition)\" was formed by mixing performances of 57 globally distributed singers into a single musical work, with \"The Tokyo Times\" noting the \"We Pray for You\" YouTube cyber-collaboration video as an example of a trend to use crowdsourcing for charitable purposes. \n",
      "\n",
      "31750\n",
      "Ukraine\n",
      "The first dedicated musical academy was set up in Hlukhiv in 1738 and students were taught to sing and play violin and bandura from manuscripts. As a result, many of the earliest composers and performers within the Russian empire were ethnically Ukrainian, having been born or educated in Hlukhiv or having been closely associated with this music school. Ukrainian classical music differs considerably depending on whether the composer was of Ukrainian ethnicity living in Ukraine, a composer of non-Ukrainian ethnicity who was a citizen of Ukraine, or part of the Ukrainian diaspora. \n",
      "\n",
      "9288\n",
      "Elvis Presley\n",
      "Presley undertook three brief tours during the year, continuing to generate a crazed audience response. A Detroit newspaper suggested that \"the trouble with going to see Elvis Presley is that you're liable to get killed.\" Villanova students pelted him with eggs in Philadelphia, and in Vancouver the crowd rioted after the end of the show, destroying the stage. Frank Sinatra, who had inspired both the swooning and screaming of teenage girls in the 1940s, condemned the new musical phenomenon. In a magazine article, he decried rock and roll as \"brutal, ugly, degenerate, vicious. ... It fosters almost totally negative and destructive reactions in young people. It smells phoney and false. It is sung, played and written, for the most part, by cretinous goons. ... This rancid-smelling aphrodisiac I deplore.\" Asked for a response, Presley said, \"I admire the man. He has a right to say what he wants to say. He is a great success and a fine actor, but I think he shouldn't have said it. ... This is a trend, just the same as he faced when he started years ago.\" \n",
      "\n",
      "9288\n",
      "Elvis Presley\n",
      "Presley returned to the Sullivan show at its main studio in New York, hosted this time by its namesake, on October 28. After the performance, crowds in Nashville and St. Louis burned him in effigy. His first motion picture, \"Love Me Tender\", was released on November 21. Though he was not top-billed, the film's original title—\"The Reno Brothers\"—was changed to capitalize on his latest number-one record: \"Love Me Tender\" had hit the top of the charts earlier that month. To further take advantage of Presley's popularity, four musical numbers were added to what was originally a straight acting role. The film was panned by critics but did very well at the box office. Presley would receive top billing on every subsequent film he made. \n",
      "\n",
      "9288\n",
      "Elvis Presley\n",
      "The audience response at Presley's live shows became increasingly fevered. Moore recalled, \"He'd start out, 'You ain't nothin' but a Hound Dog,' and they'd just go to pieces. They'd always react the same way. There'd be a riot every time.\" At the two concerts he performed in September at the Mississippi–Alabama Fair and Dairy Show, 50 National Guardsmen were added to the police security to ensure that the crowd would not cause a ruckus. \"Elvis\", Presley's second RCA Victor album, was released in October and quickly rose to number one on the billboard. The album includes \"Old Shep\", which he sang at the talent show in 1945, and which now marked the first time he played piano on an RCA Victor session. According to Guralnick, one can hear \"in the halting chords and the somewhat stumbling rhythm both the unmistakable emotion and the equally unmistakable valuing of emotion over technique.\" Assessing the musical and cultural impact of Presley's recordings from \"That's All Right\" through \"Elvis\", rock critic Dave Marsh wrote that \"these records, more than any others, contain the seeds of what rock & roll was, has been and most likely what it may foreseeably become.\" \n",
      "\n"
     ]
    }
   ],
   "source": [
    "from weaviate.classes.query import Filter\n",
    "\n",
    "wiki = client.collections.get(\"Wikipedia\")\n",
    "\n",
    "response = wiki.query.fetch_objects(\n",
    "    filters=Filter.by_property(\"text\").like(\"musical\"),\n",
    "    limit=5\n",
    ")\n",
    "\n",
    "for item in response.objects:\n",
    "    print(item.properties[\"wiki_id\"])\n",
    "    print(item.properties[\"title\"])\n",
    "    print(item.properties[\"text\"], '\\n')"
   ]
  },
  {
   "cell_type": "markdown",
   "metadata": {},
   "source": [
    "## Vector Search"
   ]
  },
  {
   "cell_type": "code",
   "execution_count": 11,
   "metadata": {},
   "outputs": [
    {
     "name": "stdout",
     "output_type": "stream",
     "text": [
      "{'text': 'Google Translate is not as reliable as human translation. When text is well-structured, written using formal language, with simple sentences, relating to formal topics for which training data is ample, it often produces conversions similar to human translations between English and a number of high-resource languages. Accuracy decreases for those languages when fewer of those conditions apply, for example when sentence length increases or the text uses familiar or literary language. For many other languages vis-à-vis English, it can produce the gist of text in those formal circumstances. Human evaluation from English to all 102 languages shows that the main idea of a text is conveyed more than 50% of the time for 35 languages. For 67 languages, a minimally comprehensible result is not achieved 50% of the time or greater. A few studies have evaluated Chinese, French, German, and Spanish to English, but no systematic human evaluation has been conducted from most Google Translate languages to English. Speculative language-to-language scores extrapolated from English-to-other measurements indicate that Google Translate will produce translation results that convey the gist of a text from one language to another more than half the time in about 1% of language pairs, where neither language is English. Research conducted in 2011 showed that Google Translate got a slightly higher score than the UCLA minimum score for the English Proficiency Exam. Due to its identical choice of words without considering the flexibility of choosing alternative words or expressions, it produces a relatively similar translation to human translation from the perspective of formality, referential cohesion, and conceptual cohesion. Moreover, a number of languages are translated into a sentence structure and sentence length similar to a human translation. Furthermore, Google carried out a test that required native speakers of each language to rate the translation on a scale between 0 and 6, and Google Translate scored 5.43 on average.', 'views': 4305.65283203125, 'wiki_id': 3235536, 'url': 'https://en.wikipedia.org/wiki?curid=3235536', 'title': 'Google Translate', 'lang': 'en', 'lang_id': 0}\n",
      "{'text': 'Certain content is copyright Oxford University Press USA. Some phrase translations come from Wikitravel.', 'views': 4305.65283203125, 'wiki_id': 3235536, 'url': 'https://en.wikipedia.org/wiki?curid=3235536', 'title': 'Google Translate', 'lang': 'en', 'lang_id': 0}\n",
      "{'text': 'Google Translate produces approximations across languages of multiple forms of text and media, including text, speech, websites, or text on display in still or live video images. For some languages, Google Translate can synthesize speech from text, and in certain pairs it is possible to highlight specific corresponding words and phrases between the source and target text. Results are sometimes shown with dictional information below the translation box, but it is not a dictionary and has been shown to invent translations in all languages for words it does not recognize. If \"Detect language\" is selected, text in an unknown language can be automatically identified. In the web interface, users can suggest alternate translations, such as for technical terms, or correct mistakes. These suggestions may be included in future updates to the translation process. If a user enters a URL in the source text, Google Translate will produce a hyperlink to a machine translation of the website. Users can save translation proposals in a \"phrasebook\" for later use, and a shareable URL is generated for each translation. For some languages, text can be entered via an on-screen keyboard, through handwriting recognition, or speech recognition. It is possible to enter searches in a source language that are first translated to a destination language allowing one to browse and interpret results from the selected destination language in the source language.', 'views': 4305.65283203125, 'wiki_id': 3235536, 'url': 'https://en.wikipedia.org/wiki?curid=3235536', 'title': 'Google Translate', 'lang': 'en', 'lang_id': 0}\n",
      "{'text': 'Google Translate\\'s neural machine translation system uses a large end-to-end artificial neural network that attempts to perform deep learning, in particular, long short-term memory networks. GNMT improves the quality of translation over SMT in some instances because it uses an example-based machine translation (EBMT) method in which the system \"learns from millions of examples.\" According to Google researchers, it translates \"whole sentences at a time, rather than just piece by piece. It uses this broader context to help it figure out the most relevant translation, which it then rearranges and adjusts to be more like a human speaking with proper grammar\". GNMT\\'s \"proposed architecture\" of \"system learning\" has been implemented on over a hundred languages supported by Google Translate. With the end-to-end framework, Google states but does not demonstrate for most languages that \"the system learns over time to create better, more natural translations.\" The GNMT network attempts interlingual machine translation, which encodes the \"semantics of the sentence rather than simply memorizing phrase-to-phrase translations\", and the system did not invent its own universal language, but uses \"the commonality found in between many languages\". GNMT was first enabled for eight languages: to and from English and Chinese, French, German, Japanese, Korean, Portuguese, Spanish and Turkish. In March 2017, it was enabled for Hindi, Russian and Vietnamese, followed by Bengali, Gujarati, Indonesian, Kannada, Malayalam, Marathi, Punjabi, Tamil and Telugu in April.', 'views': 4305.65283203125, 'wiki_id': 3235536, 'url': 'https://en.wikipedia.org/wiki?curid=3235536', 'title': 'Google Translate', 'lang': 'en', 'lang_id': 0}\n",
      "{'text': \"Irish language data from Foras na Gaeilge's New English-Irish Dictionary (English database designed and developed for Foras na Gaeilge by Lexicography MasterClass Ltd.)\", 'views': 4305.65283203125, 'wiki_id': 3235536, 'url': 'https://en.wikipedia.org/wiki?curid=3235536', 'title': 'Google Translate', 'lang': 'en', 'lang_id': 0}\n"
     ]
    }
   ],
   "source": [
    "from weaviate.classes.query import Filter\n",
    "\n",
    "wiki = client.collections.get(\"Wikipedia\")\n",
    "\n",
    "response = wiki.query.near_text(\n",
    "    query=\"natural language processing\",\n",
    "    limit=5,\n",
    "    filters=Filter.by_property(\"lang\").equal(\"en\")\n",
    ")\n",
    "\n",
    "for item in response.objects:\n",
    "    print(item.properties)"
   ]
  }
 ],
 "metadata": {
  "kernelspec": {
   "display_name": ".venv",
   "language": "python",
   "name": "python3"
  },
  "language_info": {
   "codemirror_mode": {
    "name": "ipython",
    "version": 3
   },
   "file_extension": ".py",
   "mimetype": "text/x-python",
   "name": "python",
   "nbconvert_exporter": "python",
   "pygments_lexer": "ipython3",
   "version": "3.11.7"
  },
  "orig_nbformat": 4
 },
 "nbformat": 4,
 "nbformat_minor": 2
}
