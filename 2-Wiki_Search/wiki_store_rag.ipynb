{
 "cells": [
  {
   "cell_type": "code",
   "execution_count": 6,
   "metadata": {},
   "outputs": [],
   "source": [
    "#Loading environment variables\n",
    "\n",
    "import os\n",
    "\n",
    "WEAVIATE_CLUSTER_URL = os.getenv(\"WEAVIATE_CLUSTER_URL\")\n",
    "WEAVIATE_API_KEY = os.getenv(\"WEAVIATE_API_KEY\")\n",
    "\n",
    "OPENAI_API_KEY = os.getenv(\"OPENAI_API_KEY\")\n",
    "COHERE_API_KEY = os.getenv(\"COHERE_API_KEY\")"
   ]
  },
  {
   "cell_type": "markdown",
   "metadata": {},
   "source": [
    "## Connect to WCS Instance"
   ]
  },
  {
   "cell_type": "code",
   "execution_count": 7,
   "metadata": {},
   "outputs": [
    {
     "name": "stderr",
     "output_type": "stream",
     "text": [
      "/var/folders/3v/_jgc177x2ln06306pq8qlcqc0000gn/T/ipykernel_29222/1302434159.py:4: ResourceWarning: unclosed <ssl.SSLSocket fd=73, family=2, type=1, proto=0, laddr=('100.64.100.6', 55170), raddr=('34.149.137.116', 443)>\n",
      "  client = weaviate.connect_to_wcs(\n",
      "ResourceWarning: Enable tracemalloc to get the object allocation traceback\n"
     ]
    },
    {
     "data": {
      "text/plain": [
       "True"
      ]
     },
     "execution_count": 7,
     "metadata": {},
     "output_type": "execute_result"
    }
   ],
   "source": [
    "import weaviate\n",
    "\n",
    "# Connect to a cloud instance of Weaviate (with WCS)\n",
    "client = weaviate.connect_to_wcs(\n",
    "    cluster_url=WEAVIATE_CLUSTER_URL,\n",
    "    auth_credentials=weaviate.auth.AuthApiKey(WEAVIATE_API_KEY),\n",
    "    headers={\n",
    "        \"X-OpenAI-Api-Key\": OPENAI_API_KEY,\n",
    "        \"X-Cohere-Api-Key\": COHERE_API_KEY\n",
    "    },\n",
    "\n",
    "    additional_config=weaviate.config.AdditionalConfig(timeout=(500,1500))\n",
    ")\n",
    "\n",
    "client.is_ready()"
   ]
  },
  {
   "cell_type": "markdown",
   "metadata": {},
   "source": [
    "## RAG "
   ]
  },
  {
   "cell_type": "code",
   "execution_count": 33,
   "metadata": {},
   "outputs": [],
   "source": [
    "import cohere\n",
    "co = cohere.Client(COHERE_API_KEY)\n",
    "\n",
    "def generate_query_from_prompt(prompt):\n",
    "    response = co.chat(\n",
    "        message=prompt,\n",
    "        search_queries_only=True\n",
    "    )\n",
    "    return response.search_queries[0].text"
   ]
  },
  {
   "cell_type": "code",
   "execution_count": 34,
   "metadata": {},
   "outputs": [
    {
     "data": {
      "text/plain": [
       "'tallest penguins'"
      ]
     },
     "execution_count": 34,
     "metadata": {},
     "output_type": "execute_result"
    }
   ],
   "source": [
    "# Example of how to generate a query from a prompt\n",
    "generate_query_from_prompt(\"Where do the tallest penguins live?\")"
   ]
  },
  {
   "cell_type": "code",
   "execution_count": 36,
   "metadata": {},
   "outputs": [],
   "source": [
    "from weaviate.classes.query import Filter\n",
    "\n",
    "def two_step_rag(user_prompt):\n",
    "    # Step 1\n",
    "    prompt = user_prompt + \" Please only use the provided content with this prompt. Don't make things up.\"\n",
    "    \n",
    "    generated_query = generate_query_from_prompt(prompt)\n",
    "    print(\"=== Generated Query ===\")\n",
    "    print(f\"Generated query: {generated_query}\")\n",
    "\n",
    "    # Step 2\n",
    "    wiki = client.collections.get(\"Wikipedia\")\n",
    "\n",
    "    response = wiki.generate.near_text(\n",
    "        query=generated_query,\n",
    "        auto_limit=1,\n",
    "        grouped_task=prompt,\n",
    "        grouped_properties=[\"text\", \"title\"]\n",
    "    )\n",
    "\n",
    "    # Print results\n",
    "    print(\"=== Generated Response ===\")\n",
    "    print(response.generated)\n",
    "\n",
    "    print(\"=== Source ===\")\n",
    "    for item in response.objects:\n",
    "        print(item.properties)"
   ]
  },
  {
   "cell_type": "code",
   "execution_count": 37,
   "metadata": {},
   "outputs": [
    {
     "name": "stdout",
     "output_type": "stream",
     "text": [
      "=== Generated Query ===\n",
      "Generated query: How do planes fly simple explanation\n",
      "=== Generated Response ===\n",
      "The provided content does not contain any information related to how airplanes fly. Therefore, it is not possible to explain how airplanes fly using only the provided content.\n",
      "=== Source ===\n",
      "{'text': 'Certain content is copyright Oxford University Press USA. Some phrase translations come from Wikitravel.', 'views': 4305.65283203125, 'wiki_id': 3235536, 'url': 'https://en.wikipedia.org/wiki?curid=3235536', 'title': 'Google Translate', 'lang': 'en', 'lang_id': 0}\n",
      "{'text': 'Many of the civilians died because of deliberate genocide, massacres, mass bombings, disease, and starvation.', 'views': 4472.27392578125, 'wiki_id': 32927, 'url': 'https://en.wikipedia.org/wiki?curid=32927', 'title': 'World War II', 'lang': 'en', 'lang_id': 0}\n",
      "{'text': ', the top three countries spreading state-linked Twitter misinformation are Russia, Iran and Saudi Arabia.', 'views': 4185.50732421875, 'wiki_id': 9988187, 'url': 'https://en.wikipedia.org/wiki?curid=9988187', 'title': 'Twitter', 'lang': 'en', 'lang_id': 0}\n",
      "{'text': 'As the Internet is a heterogeneous network, the physical characteristics, including for example the data transfer rates of connections, vary widely. It exhibits emergent phenomena that depend on its large-scale organization.', 'views': 4292.6357421875, 'wiki_id': 14539, 'url': 'https://en.wikipedia.org/wiki?curid=14539', 'title': 'Internet', 'lang': 'en', 'lang_id': 0}\n"
     ]
    }
   ],
   "source": [
    "two_step_rag(\"How do airplanes fly?\")"
   ]
  },
  {
   "cell_type": "code",
   "execution_count": 38,
   "metadata": {},
   "outputs": [
    {
     "name": "stdout",
     "output_type": "stream",
     "text": [
      "=== Generated Query ===\n",
      "Generated query: pros and cons of automation using computer\n",
      "=== Generated Response ===\n",
      "Pros of Automation Using Computer:\n",
      "\n",
      "1. Increased Speed and Efficiency: The rise of the internet has led to near-instant communication through email, instant messaging, and VoIP. This speed and efficiency can be attributed to automation, which allows for faster data transmission over fiber optic networks operating at high speeds.\n",
      "\n",
      "2. Growth and Expansion: The lack of central administration in the internet allows for organic growth of the network. Automation plays a significant role in this growth, as it enables the efficient handling of increasing amounts of data and information.\n",
      "\n",
      "3. Vendor Interoperability: The non-proprietary nature of the internet protocols encourages vendor interoperability. Automation using computers can facilitate this interoperability, preventing any one company from exerting too much control over the network.\n",
      "\n",
      "Cons of Automation Using Computer:\n",
      "\n",
      "1. Dependence on Internet: With more than 97% of all telecommunicated information being carried over the internet by 2007, there is a heavy reliance on the internet. If the internet were to go down, automated systems would also fail, causing significant disruption.\n",
      "\n",
      "2. Security Concerns: With the increase in data transmission, there are also increased risks of data breaches and cyber attacks. Automated systems can be vulnerable to these threats if not properly secured.\n",
      "\n",
      "3. Digital Divide: While the internet user base is growing, it still only accounted for 30.2% of the world population in 2010. This means that a significant portion of the population may not have access to or the skills to use automated systems, leading to a digital divide.\n",
      "=== Source ===\n",
      "{'text': 'A 2008 study conducted by researchers at Carnegie Mellon University and Palo Alto Research Center gave a distribution of topics as well as growth (from July 2006 to January 2008) in each field:', 'views': 4901.193359375, 'wiki_id': 5043734, 'url': 'https://en.wikipedia.org/wiki?curid=5043734', 'title': 'Wikipedia', 'lang': 'en', 'lang_id': 0}\n",
      "{'text': 'Since 1995, the Internet has tremendously impacted culture and commerce, including the rise of near instant communication by email, instant messaging, telephony (Voice over Internet Protocol or VoIP), two-way interactive video calls, and the World Wide Web with its discussion forums, blogs, social networking services, and online shopping sites. Increasing amounts of data are transmitted at higher and higher speeds over fiber optic networks operating at 1 Gbit/s, 10 Gbit/s, or more. The Internet continues to grow, driven by ever greater amounts of online information and knowledge, commerce, entertainment and social networking services. During the late 1990s, it was estimated that traffic on the public Internet grew by 100 percent per year, while the mean annual growth in the number of Internet users was thought to be between 20% and 50%. This growth is often attributed to the lack of central administration, which allows organic growth of the network, as well as the non-proprietary nature of the Internet protocols, which encourages vendor interoperability and prevents any one company from exerting too much control over the network. , the estimated total number of Internet users was 2.095\\xa0billion (30.2% of world population). It is estimated that in 1993 the Internet carried only 1% of the information flowing through two-way telecommunication. By 2000 this figure had grown to 51%, and by 2007 more than 97% of all telecommunicated information was carried over the Internet.', 'views': 4292.6357421875, 'wiki_id': 14539, 'url': 'https://en.wikipedia.org/wiki?curid=14539', 'title': 'Internet', 'lang': 'en', 'lang_id': 0}\n"
     ]
    }
   ],
   "source": [
    "two_step_rag(\"What are the pros and cons of automation using computer?\")"
   ]
  },
  {
   "cell_type": "code",
   "execution_count": 40,
   "metadata": {},
   "outputs": [
    {
     "name": "stdout",
     "output_type": "stream",
     "text": [
      "=== Generated Query ===\n",
      "Generated query: how do CPUs work\n",
      "=== Generated Response ===\n",
      "The provided content does not contain information on how CPUs (Central Processing Units) work. The content primarily discusses the history and structure of the Internet, Internet Service Providers (ISPs), and data centers. Please provide the relevant content to explain how CPUs work.\n",
      "=== Source ===\n",
      "{'text': 'The origins of the Internet date back to the development of packet switching and research commissioned by the United States Department of Defense in the 1960s to enable time-sharing of computers. The primary precursor network, the ARPANET, initially served as a backbone for interconnection of regional academic and military networks in the 1970s to enable resource sharing. The funding of the National Science Foundation Network as a new backbone in the 1980s, as well as private funding for other commercial extensions, led to worldwide participation in the development of new networking technologies, and the merger of many networks. The linking of commercial networks and enterprises by the early 1990s marked the beginning of the transition to the modern Internet, and generated a sustained exponential growth as generations of institutional, personal, and mobile computers were connected to the network. Although the Internet was widely used by academia in the 1980s, commercialization incorporated its services and technologies into virtually every aspect of modern life.', 'views': 4292.6357421875, 'wiki_id': 14539, 'url': 'https://en.wikipedia.org/wiki?curid=14539', 'title': 'Internet', 'lang': 'en', 'lang_id': 0}\n",
      "{'text': 'Most servers that provide these services are today hosted in data centers, and content is often accessed through high-performance content delivery networks.', 'views': 4292.6357421875, 'wiki_id': 14539, 'url': 'https://en.wikipedia.org/wiki?curid=14539', 'title': 'Internet', 'lang': 'en', 'lang_id': 0}\n",
      "{'text': 'As the Internet is a heterogeneous network, the physical characteristics, including for example the data transfer rates of connections, vary widely. It exhibits emergent phenomena that depend on its large-scale organization.', 'views': 4292.6357421875, 'wiki_id': 14539, 'url': 'https://en.wikipedia.org/wiki?curid=14539', 'title': 'Internet', 'lang': 'en', 'lang_id': 0}\n",
      "{'text': \"Internet service providers (ISPs) establish the worldwide connectivity between individual networks at various levels of scope. End-users who only access the Internet when needed to perform a function or obtain information, represent the bottom of the routing hierarchy. At the top of the routing hierarchy are the tier 1 networks, large telecommunication companies that exchange traffic directly with each other via very high speed fibre optic cables and governed by peering agreements. Tier 2 and lower-level networks buy Internet transit from other providers to reach at least some parties on the global Internet, though they may also engage in peering. An ISP may use a single upstream provider for connectivity, or implement multihoming to achieve redundancy and load balancing. Internet exchange points are major traffic exchanges with physical connections to multiple ISPs. Large organizations, such as academic institutions, large enterprises, and governments, may perform the same function as ISPs, engaging in peering and purchasing transit on behalf of their internal networks. Research networks tend to interconnect with large subnetworks such as GEANT, GLORIAD, Internet2, and the UK's national research and education network, JANET.\", 'views': 4292.6357421875, 'wiki_id': 14539, 'url': 'https://en.wikipedia.org/wiki?curid=14539', 'title': 'Internet', 'lang': 'en', 'lang_id': 0}\n",
      "{'text': 'Certain content is copyright Oxford University Press USA. Some phrase translations come from Wikitravel.', 'views': 4305.65283203125, 'wiki_id': 3235536, 'url': 'https://en.wikipedia.org/wiki?curid=3235536', 'title': 'Google Translate', 'lang': 'en', 'lang_id': 0}\n"
     ]
    }
   ],
   "source": [
    "two_step_rag(\"How do CPUs work?\")"
   ]
  }
 ],
 "metadata": {
  "kernelspec": {
   "display_name": ".venv",
   "language": "python",
   "name": "python3"
  },
  "language_info": {
   "codemirror_mode": {
    "name": "ipython",
    "version": 3
   },
   "file_extension": ".py",
   "mimetype": "text/x-python",
   "name": "python",
   "nbconvert_exporter": "python",
   "pygments_lexer": "ipython3",
   "version": "3.11.7"
  },
  "orig_nbformat": 4
 },
 "nbformat": 4,
 "nbformat_minor": 2
}
