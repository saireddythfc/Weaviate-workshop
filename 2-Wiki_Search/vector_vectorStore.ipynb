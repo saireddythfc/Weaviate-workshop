{
 "cells": [
  {
   "cell_type": "markdown",
   "metadata": {},
   "source": [
    "## Storing objects while specifying their vectors"
   ]
  },
  {
   "cell_type": "code",
   "execution_count": 16,
   "metadata": {},
   "outputs": [],
   "source": [
    "#Loading environment variables\n",
    "\n",
    "import os\n",
    "\n",
    "WEAVIATE_CLUSTER_URL = os.getenv(\"WEAVIATE_CLUSTER_URL\")\n",
    "WEAVIATE_API_KEY = os.getenv(\"WEAVIATE_API_KEY\")\n",
    "\n",
    "OPENAI_API_KEY = os.getenv(\"OPENAI_API_KEY\")\n",
    "COHERE_API_KEY = os.getenv(\"COHERE_API_KEY\")"
   ]
  },
  {
   "cell_type": "markdown",
   "metadata": {},
   "source": [
    "## Connect to Weaviate Instance"
   ]
  },
  {
   "cell_type": "code",
   "execution_count": 17,
   "metadata": {},
   "outputs": [
    {
     "data": {
      "text/plain": [
       "True"
      ]
     },
     "execution_count": 17,
     "metadata": {},
     "output_type": "execute_result"
    }
   ],
   "source": [
    "import weaviate\n",
    "\n",
    "#Connecting to WCS instance\n",
    "\n",
    "client = weaviate.connect_to_wcs(\n",
    "    cluster_url=WEAVIATE_CLUSTER_URL,\n",
    "    auth_credentials=weaviate.auth.AuthApiKey(WEAVIATE_API_KEY),\n",
    "    headers={\n",
    "        \"X-OpenAI-Api-Key\": OPENAI_API_KEY,\n",
    "        \"X-Cohere-Api-Key\": COHERE_API_KEY\n",
    "    }\n",
    ")\n",
    "\n",
    "client.is_ready()"
   ]
  },
  {
   "cell_type": "markdown",
   "metadata": {},
   "source": [
    "## Create a collection with no Vectorizer"
   ]
  },
  {
   "cell_type": "code",
   "execution_count": 18,
   "metadata": {},
   "outputs": [
    {
     "name": "stdout",
     "output_type": "stream",
     "text": [
      "Collection creation success\n"
     ]
    }
   ],
   "source": [
    "from weaviate.classes.config import Configure, VectorDistances, Property, DataType\n",
    "\n",
    "if client.collections.exists(\"MyCollection\"):\n",
    "    client.collections.delete(\"MyCollection\")\n",
    "\n",
    "client.collections.create(\n",
    "    name=\"MyCollection\",\n",
    "    vectorizer_config=Configure.Vectorizer.none(),\n",
    "    vector_index_config=Configure.VectorIndex.hnsw(\n",
    "        distance_metric=VectorDistances.COSINE\n",
    "    ),\n",
    "    properties=[\n",
    "        Property(name=\"title\", data_type=DataType.TEXT),\n",
    "        Property(name=\"foo\", data_type=DataType.INT),\n",
    "    ]\n",
    ")\n",
    "\n",
    "print(\"Collection creation success\")"
   ]
  },
  {
   "cell_type": "code",
   "execution_count": 19,
   "metadata": {},
   "outputs": [],
   "source": [
    "my_collection = client.collections.get(\"MyCollection\")"
   ]
  },
  {
   "cell_type": "markdown",
   "metadata": {},
   "source": [
    "## Insert object with Vector"
   ]
  },
  {
   "cell_type": "code",
   "execution_count": 20,
   "metadata": {},
   "outputs": [
    {
     "data": {
      "text/plain": [
       "UUID('ae11fb7b-4bde-4466-b7a6-bf6cabab2757')"
      ]
     },
     "execution_count": 20,
     "metadata": {},
     "output_type": "execute_result"
    }
   ],
   "source": [
    "my_collection.data.insert(\n",
    "    properties={\n",
    "        \"title\": \"First Object\",\n",
    "        \"foo\": 11\n",
    "    },\n",
    "    vector=[0.1, 0.1, 0.1, 0.1, 0.1, 0.1]\n",
    ")"
   ]
  },
  {
   "cell_type": "markdown",
   "metadata": {},
   "source": [
    "## Fetch objects with vectors"
   ]
  },
  {
   "cell_type": "code",
   "execution_count": 21,
   "metadata": {},
   "outputs": [
    {
     "name": "stdout",
     "output_type": "stream",
     "text": [
      "{'default': [0.10000000149011612, 0.10000000149011612, 0.10000000149011612, 0.10000000149011612, 0.10000000149011612, 0.10000000149011612]}\n"
     ]
    }
   ],
   "source": [
    "response = my_collection.query.fetch_objects(limit=1, include_vector=True)\n",
    "print(response.objects[0].vector)"
   ]
  },
  {
   "cell_type": "markdown",
   "metadata": {},
   "source": [
    "## Insert many objects with their vectors using batch"
   ]
  },
  {
   "cell_type": "code",
   "execution_count": 22,
   "metadata": {},
   "outputs": [],
   "source": [
    "source = [\n",
    "    {\n",
    "        \"title\": \"Second Object\",\n",
    "        \"foo\": 22,\n",
    "        \"vector\": [0.2, 0.3, 0.4, 0.5, 0.6, 0.7]\n",
    "    },\n",
    "    {\n",
    "        \"title\": \"Third Object\",\n",
    "        \"foo\": 33,\n",
    "        \"vector\": [0.3, 0.1, -0.1, -0.3, -0.5, -0.7]\n",
    "    },\n",
    "    {\n",
    "        \"title\": \"Fourth Object\",\n",
    "        \"foo\": 44,\n",
    "        \"vector\": [0.4, 0.41, 0.42, 0.43, 0.44, 0.45]\n",
    "    },\n",
    "    {\n",
    "        \"title\": \"Fifth Object\",\n",
    "        \"foo\": 55,\n",
    "        \"vector\": [0.5, 0.5, 0, 0, 0, 0]\n",
    "    },\n",
    "]"
   ]
  },
  {
   "cell_type": "code",
   "execution_count": 23,
   "metadata": {},
   "outputs": [],
   "source": [
    "with my_collection.batch.dynamic() as batch:\n",
    "    # TODO:  iterate through objects here and add them using batch\n",
    "    for item in source:\n",
    "        batch.add_object(\n",
    "            properties={\n",
    "                \"title\": item[\"title\"],\n",
    "                \"foo\": item[\"foo\"]\n",
    "            },\n",
    "            vector=item[\"vector\"]\n",
    "        )"
   ]
  },
  {
   "cell_type": "code",
   "execution_count": 24,
   "metadata": {},
   "outputs": [
    {
     "name": "stdout",
     "output_type": "stream",
     "text": [
      "{'default': [0.4000000059604645, 0.4099999964237213, 0.41999998688697815, 0.4300000071525574, 0.4399999976158142, 0.44999998807907104]}\n"
     ]
    }
   ],
   "source": [
    "response = my_collection.query.fetch_objects(limit=5, include_vector=True)\n",
    "print(response.objects[2].vector)"
   ]
  },
  {
   "cell_type": "markdown",
   "metadata": {},
   "source": [
    "## Using insert_many"
   ]
  },
  {
   "cell_type": "code",
   "execution_count": 25,
   "metadata": {},
   "outputs": [],
   "source": [
    "# sample_data = [\n",
    "#    wc.DataObject(\n",
    "#       properties={\n",
    "#          \"title\": \"First Object\",\n",
    "#          \"foo\": 11, \n",
    "#       },\n",
    "#       vector=[0.1, 0.1, 0.1, 0.1, 0.1, 0.1]\n",
    "#    ),\n",
    "#    wc.DataObject(\n",
    "#       properties={\n",
    "#          \"title\": \"Second Object\",\n",
    "#          \"foo\": 22,\n",
    "#       },\n",
    "#       vector=[0.2, 0.3, 0.4, 0.5, 0.6, 0.7]\n",
    "#    ),\n",
    "#    wc.DataObject(\n",
    "#       properties={\n",
    "#          \"title\": \"Third Object\",\n",
    "#          \"foo\": 33,\n",
    "#       },\n",
    "#       vector=[0.3, 0.1, -0.1, -0.3, -0.5, -0.7]\n",
    "#    ),\n",
    "#    wc.DataObject(\n",
    "#       properties={\n",
    "#          \"title\": \"Fourth Object\",\n",
    "#         \"foo\": 44,\n",
    "#       },\n",
    "#       vector=[0.4, 0.41, 0.42, 0.43, 0.44, 0.45]\n",
    "#    ),\n",
    "#    wc.DataObject(\n",
    "#       properties={\n",
    "#          \"title\": \"Fifth Object\",\n",
    "#          \"foo\": 55,\n",
    "#       },\n",
    "#       vector=[0.5, 0.5, 0, 0, 0, 0]\n",
    "#    ),\n",
    "# ]\n",
    "\n",
    "# my_collection.data.insert_many(sample_data)"
   ]
  },
  {
   "cell_type": "markdown",
   "metadata": {},
   "source": [
    "## Query\n",
    "Available types of queries you can run when working with vector embeddings (without modules) in **Weaviate**:\n",
    "\n",
    "1. [near_vector](https://weaviate.io/developers/weaviate/search/similarity#search-with-a-vector)\n",
    "\n",
    "2. [near_object](https://weaviate.io/developers/weaviate/search/similarity#search-with-an-existing-object)"
   ]
  },
  {
   "cell_type": "markdown",
   "metadata": {},
   "source": [
    "## near_vector"
   ]
  },
  {
   "cell_type": "code",
   "execution_count": 26,
   "metadata": {},
   "outputs": [
    {
     "name": "stdout",
     "output_type": "stream",
     "text": [
      "c75ab1e0-3742-499f-9456-72e7aead5c00\n",
      "{'title': 'Second Object', 'foo': 22} \n",
      "\n",
      "bd3b882b-10d3-4722-b4ff-6eafadea6240\n",
      "{'title': 'Fourth Object', 'foo': 44} \n",
      "\n",
      "ae11fb7b-4bde-4466-b7a6-bf6cabab2757\n",
      "{'title': 'First Object', 'foo': 11} \n",
      "\n",
      "9b1452f9-d87d-48d8-a47e-39f2f8dec7f4\n",
      "{'title': 'Fifth Object', 'foo': 55} \n",
      "\n",
      "dcfb306d-6922-47ae-a91d-808fc9a5671e\n",
      "{'title': 'Third Object', 'foo': 33} \n",
      "\n"
     ]
    }
   ],
   "source": [
    "response = my_collection.query.near_vector(\n",
    "    near_vector=[-0.012, 0.021, -0.23, -0.42, 0.5, 0.5]\n",
    ")\n",
    "\n",
    "for item in response.objects:\n",
    "    print(item.uuid)\n",
    "    print(item.properties, \"\\n\")"
   ]
  },
  {
   "cell_type": "code",
   "execution_count": 27,
   "metadata": {},
   "outputs": [
    {
     "name": "stdout",
     "output_type": "stream",
     "text": [
      "{'title': 'Second Object', 'foo': 22}\n",
      "0.6506307125091553\n",
      "{'default': [0.20000000298023224, 0.30000001192092896, 0.4000000059604645, 0.5, 0.6000000238418579, 0.699999988079071]} \n",
      "\n",
      "{'title': 'Fourth Object', 'foo': 44}\n",
      "0.8072028756141663\n",
      "{'default': [0.4000000059604645, 0.4099999964237213, 0.41999998688697815, 0.4300000071525574, 0.4399999976158142, 0.44999998807907104]} \n",
      "\n",
      "{'title': 'Fifth Object', 'foo': 55}\n",
      "0.9925509691238403\n",
      "{'default': [0.5, 0.5, 0.0, 0.0, 0.0, 0.0]} \n",
      "\n"
     ]
    }
   ],
   "source": [
    "from weaviate.classes.query import MetadataQuery, Filter\n",
    "\n",
    "\n",
    "response = my_collection.query.near_vector(\n",
    "    near_vector=[-0.012, 0.021, -0.23, -0.42, 0.5, 0.5],\n",
    "    include_vector=True, \n",
    "    limit=3,\n",
    "    filters=Filter.by_property(\"foo\").greater_than(11),\n",
    "    return_metadata=MetadataQuery(distance=True),# TODO: request distance from metadata\n",
    ")\n",
    "\n",
    "for item in response.objects:\n",
    "    print(item.properties)\n",
    "    print(item.metadata.distance)\n",
    "    print(item.vector, \"\\n\")"
   ]
  },
  {
   "cell_type": "code",
   "execution_count": 28,
   "metadata": {},
   "outputs": [
    {
     "name": "stdout",
     "output_type": "stream",
     "text": [
      "{'title': 'Second Object', 'foo': 22}\n",
      "0.6506307125091553 \n",
      "\n",
      "{'title': 'Fourth Object', 'foo': 44}\n",
      "0.8072028756141663 \n",
      "\n"
     ]
    }
   ],
   "source": [
    "from weaviate.classes.query import Filter, MetadataQuery\n",
    "\n",
    "response = my_collection.query.near_vector(\n",
    "    near_vector=[-0.012, 0.021, -0.23, -0.42, 0.5, 0.5],\n",
    "    return_metadata=MetadataQuery(distance=True),\n",
    "    limit=2,\n",
    ")\n",
    "\n",
    "for item in response.objects:\n",
    "    print(item.properties)\n",
    "    print(item.metadata.distance, \"\\n\")"
   ]
  },
  {
   "cell_type": "markdown",
   "metadata": {},
   "source": [
    "## near_object"
   ]
  },
  {
   "cell_type": "code",
   "execution_count": 30,
   "metadata": {},
   "outputs": [
    {
     "name": "stdout",
     "output_type": "stream",
     "text": [
      "9b1452f9-d87d-48d8-a47e-39f2f8dec7f4\n",
      "{'title': 'Fifth Object', 'foo': 55}\n",
      "5.960464477539063e-08 \n",
      "\n",
      "ae11fb7b-4bde-4466-b7a6-bf6cabab2757\n",
      "{'title': 'First Object', 'foo': 11}\n",
      "0.4226497411727905 \n",
      "\n",
      "bd3b882b-10d3-4722-b4ff-6eafadea6240\n",
      "{'title': 'Fourth Object', 'foo': 44}\n",
      "0.4502628445625305 \n",
      "\n"
     ]
    }
   ],
   "source": [
    "from weaviate.classes.query import MetadataQuery\n",
    "\n",
    "response = my_collection.query.near_object(\n",
    "    near_object=\"9b1452f9-d87d-48d8-a47e-39f2f8dec7f4\", #uuid for fifth object\n",
    "    return_metadata=MetadataQuery(distance=True),\n",
    "    limit=3\n",
    ")\n",
    "\n",
    "for item in response.objects:\n",
    "    print(item.uuid)\n",
    "    print(item.properties)\n",
    "    print(item.metadata.distance, \"\\n\")"
   ]
  }
 ],
 "metadata": {
  "kernelspec": {
   "display_name": ".venv",
   "language": "python",
   "name": "python3"
  },
  "language_info": {
   "codemirror_mode": {
    "name": "ipython",
    "version": 3
   },
   "file_extension": ".py",
   "mimetype": "text/x-python",
   "name": "python",
   "nbconvert_exporter": "python",
   "pygments_lexer": "ipython3",
   "version": "3.11.7"
  },
  "orig_nbformat": 4
 },
 "nbformat": 4,
 "nbformat_minor": 2
}
